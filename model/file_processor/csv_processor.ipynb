{
 "cells": [
  {
   "cell_type": "markdown",
   "id": "ca13a779",
   "metadata": {},
   "source": [
    "# CSV to JSON Processor (Structured Data)\n",
    "\n",
    "This notebook processes a CSV file and converts its entire content into a JSON file."
   ]
  },
  {
   "cell_type": "markdown",
   "id": "3d463dbd",
   "metadata": {},
   "source": [
    "### Step 1: Import Necessary Libraries"
   ]
  },
  {
   "cell_type": "code",
   "execution_count": null,
   "id": "67fc6845",
   "metadata": {},
   "outputs": [],
   "source": [
    "%pip install pandas"
   ]
  },
  {
   "cell_type": "code",
   "execution_count": null,
   "id": "46f6f4af",
   "metadata": {},
   "outputs": [],
   "source": [
    "import json\n",
    "import os\n",
    "import re\n",
    "import pandas as pd"
   ]
  },
  {
   "cell_type": "markdown",
   "id": "f45577be",
   "metadata": {},
   "source": [
    "### Step 2: Load the CSV File"
   ]
  },
  {
   "cell_type": "code",
   "execution_count": null,
   "id": "72d349c2",
   "metadata": {},
   "outputs": [],
   "source": [
    "import tkinter as tk\n",
    "from tkinter import filedialog\n",
    "import pandas as pd\n",
    "import os\n",
    "from tkinter import messagebox\n",
    "\n",
    "selected_file_path = None\n",
    "df_preview = None\n",
    "\n",
    "def select_file():\n",
    "    global selected_file_path, df_preview\n",
    "\n",
    "    file_path = filedialog.askopenfilename(\n",
    "        title=\"Select a CSV File\",\n",
    "        filetypes=((\"CSV Files\", \"*.csv\"), (\"All Files\", \"*.*\"))\n",
    "    )\n",
    "\n",
    "    if file_path:\n",
    "        selected_file_path = file_path\n",
    "        label.config(text=os.path.basename(file_path))\n",
    "        \n",
    "        try:\n",
    "            # Try utf-8 first, fallback to ISO-8859-1\n",
    "            try:\n",
    "                df_preview = pd.read_csv(file_path, encoding='utf-8')\n",
    "            except UnicodeDecodeError:\n",
    "                df_preview = pd.read_csv(file_path, encoding='ISO-8859-1')\n",
    "\n",
    "            # Show first few rows in the text widget\n",
    "            preview_text = df_preview.head().to_string()\n",
    "            text_widget.delete(1.0, tk.END)\n",
    "            text_widget.insert(tk.END, preview_text)\n",
    "            button_confirm.pack(pady=10)\n",
    "\n",
    "        except Exception as e:\n",
    "            messagebox.showerror(\"Error\", f\"Failed to load CSV:\\n{e}\")\n",
    "            label.config(text=\"No file selected\")\n",
    "            text_widget.delete(1.0, tk.END)\n",
    "            button_confirm.pack_forget()\n",
    "    else:\n",
    "        label.config(text=\"No file selected\")\n",
    "        button_confirm.pack_forget()\n",
    "\n",
    "def confirm_file():\n",
    "    if selected_file_path:\n",
    "        window.destroy()\n",
    "    else:\n",
    "        messagebox.showwarning(\"No Selection\", \"Please select a file before confirming.\")\n",
    "\n",
    "# --- GUI Setup ---\n",
    "window = tk.Tk()\n",
    "window.title(\"Select a CSV File\")\n",
    "window.geometry(\"800x500+100+100\")\n",
    "\n",
    "label = tk.Label(window, text=\"No file selected\", width=100)\n",
    "label.pack(pady=20)\n",
    "\n",
    "button_select = tk.Button(window, text=\"Select File\", command=select_file)\n",
    "button_select.pack(pady=10)\n",
    "\n",
    "button_confirm = tk.Button(window, text=\"Load File\", command=confirm_file)\n",
    "\n",
    "text_widget = tk.Text(window, width=100, height=15)\n",
    "text_widget.pack(pady=10)\n",
    "\n",
    "window.mainloop()\n",
    "\n",
    "# --- After GUI closes ---\n",
    "if selected_file_path:\n",
    "    print(f\"\\nConfirmed CSV file path: {selected_file_path}\")\n",
    "    print(\"\\nCSV File Loaded Successfully:\")\n",
    "    print(df_preview.head())\n",
    "else:\n",
    "    print(\"\\nNo file selected.\")\n"
   ]
  },
  {
   "cell_type": "markdown",
   "id": "dc0f2a59",
   "metadata": {},
   "source": [
    "### Step 3: Data Cleaning"
   ]
  },
  {
   "cell_type": "code",
   "execution_count": null,
   "id": "5ed09d8f",
   "metadata": {},
   "outputs": [],
   "source": [
    "allowed_pattern = re.compile(r\"[^\\w\\s.,!?;:'\\\"()\\[\\]\\/-]\")\n",
    "\n",
    "# Unicode-safe strip function\n",
    "def clean_string(text):\n",
    "    cleaned = allowed_pattern.sub('', text)\n",
    "    return cleaned.strip().replace('\\u00A0', '').strip()\n",
    "\n",
    "# Copy df_preview safely\n",
    "df = df_preview.copy()\n",
    "\n",
    "# Replace NaN with None\n",
    "df = df.where(pd.notnull(df), None)\n",
    "\n",
    "# Convert the DataFrame to a JSON structure\n",
    "json_data = df.to_dict(orient=\"records\")\n",
    "\n",
    "\n",
    "# Clean each string in the record\n",
    "for record in json_data:\n",
    "    for key, value in record.items():\n",
    "        if isinstance(value, str):\n",
    "            cleaned_value = clean_string(value.strip())\n",
    "            if ';' in cleaned_value:\n",
    "                record[key] = [item.strip() for item in cleaned_value.split(';') if item.strip()]\n",
    "            else:\n",
    "                record[key] = cleaned_value\n",
    "\n",
    "# Display the JSON data\n",
    "print(\"Converted JSON Data:\")\n",
    "print(json.dumps(json_data, indent=4))"
   ]
  },
  {
   "cell_type": "markdown",
   "id": "9c92e08e",
   "metadata": {},
   "source": [
    "### Step 4: Save the JSON Data to a File"
   ]
  },
  {
   "cell_type": "code",
   "execution_count": null,
   "id": "cb52655d",
   "metadata": {},
   "outputs": [],
   "source": [
    "### Step 4: Save JSON File\n",
    "csv_filename_only = os.path.splitext(os.path.basename(selected_file_path))[0]\n",
    "\n",
    "output_file_path = f\"../../data/processed/processed_{csv_filename_only}.json\"\n",
    "os.makedirs(os.path.dirname(output_file_path), exist_ok=True)\n",
    "\n",
    "with open(output_file_path, \"w\", encoding=\"utf-8\") as json_file:\n",
    "    json.dump(json_data, json_file, indent=4, ensure_ascii=False)\n",
    "\n",
    "print(f\"JSON data saved to {output_file_path}\")\n"
   ]
  },
  {
   "cell_type": "markdown",
   "metadata": {},
   "source": [
    "### - END"
   ]
  }
 ],
 "metadata": {
  "kernelspec": {
   "display_name": ".venv",
   "language": "python",
   "name": "python3"
  },
  "language_info": {
   "codemirror_mode": {
    "name": "ipython",
    "version": 3
   },
   "file_extension": ".py",
   "mimetype": "text/x-python",
   "name": "python",
   "nbconvert_exporter": "python",
   "pygments_lexer": "ipython3",
   "version": "3.12.7"
  }
 },
 "nbformat": 4,
 "nbformat_minor": 5
}
