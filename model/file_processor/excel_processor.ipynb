{
 "cells": [
  {
   "cell_type": "markdown",
   "id": "2c4980b8",
   "metadata": {},
   "source": [
    "# Excel to JSON Processor (Structured Data)\n",
    "\n",
    "This notebook processes an Excel file and converts its content into a JSON file. It supports multiple sheets and allows the user to choose whether to process all sheets or a specific sheet."
   ]
  },
  {
   "cell_type": "markdown",
   "id": "f0ca497f",
   "metadata": {},
   "source": [
    "### Step 1: Import Necessary Libraries"
   ]
  },
  {
   "cell_type": "code",
   "execution_count": null,
   "id": "4a08cecf",
   "metadata": {},
   "outputs": [],
   "source": [
    "%pip install pandas openpyxl"
   ]
  },
  {
   "cell_type": "code",
   "execution_count": null,
   "id": "abe3d880",
   "metadata": {},
   "outputs": [],
   "source": [
    "import tkinter as tk\n",
    "from tkinter import filedialog, ttk, messagebox\n",
    "import pandas as pd\n",
    "import json\n",
    "import os\n",
    "import re\n",
    "import datetime"
   ]
  },
  {
   "cell_type": "markdown",
   "id": "ed366611",
   "metadata": {},
   "source": [
    "### Step 2: Load the Excel File"
   ]
  },
  {
   "cell_type": "code",
   "execution_count": null,
   "id": "cfdccf25",
   "metadata": {},
   "outputs": [],
   "source": [
    "import tkinter as tk\n",
    "from tkinter import filedialog, messagebox\n",
    "import pandas as pd\n",
    "import os\n",
    "\n",
    "# --- Globals ---\n",
    "selected_excel_path = None\n",
    "excel_data = None\n",
    "\n",
    "def select_file():\n",
    "    global selected_excel_path, excel_data\n",
    "\n",
    "    path = filedialog.askopenfilename(\n",
    "        title=\"Select an Excel File\",\n",
    "        filetypes=((\"Excel Files\", \"*.xlsx\"), (\"All Files\", \"*.*\"))\n",
    "    )\n",
    "\n",
    "    if path:\n",
    "        selected_excel_path = path\n",
    "        label.config(text=os.path.basename(path))\n",
    "\n",
    "        try:\n",
    "            excel_data = pd.ExcelFile(path)\n",
    "            preview = \"\\n\".join(f\"• {name}\" for name in excel_data.sheet_names)\n",
    "\n",
    "            text_widget.delete(1.0, tk.END)\n",
    "            text_widget.insert(tk.END, f\"Available Sheets:\\n{preview}\")\n",
    "            button_confirm.pack(pady=10)\n",
    "\n",
    "        except Exception as e:\n",
    "            messagebox.showerror(\"Error\", f\"Failed to load Excel:\\n{e}\")\n",
    "            selected_excel_path = None\n",
    "            label.config(text=\"No file selected\")\n",
    "            text_widget.delete(1.0, tk.END)\n",
    "            button_confirm.pack_forget()\n",
    "    else:\n",
    "        label.config(text=\"No file selected\")\n",
    "        button_confirm.pack_forget()\n",
    "\n",
    "def confirm_file():\n",
    "    if selected_excel_path:\n",
    "        window.destroy()\n",
    "    else:\n",
    "        messagebox.showwarning(\"No Selection\", \"Please select a file before confirming.\")\n",
    "\n",
    "# --- GUI Setup ---\n",
    "window = tk.Tk()\n",
    "window.title(\"Select an Excel File\")\n",
    "window.geometry(\"800x500+100+100\")\n",
    "\n",
    "label = tk.Label(window, text=\"No file selected\", width=100)\n",
    "label.pack(pady=20)\n",
    "\n",
    "button_select = tk.Button(window, text=\"Select File\", command=select_file)\n",
    "button_select.pack(pady=10)\n",
    "\n",
    "button_confirm = tk.Button(window, text=\"Load File\", command=confirm_file)\n",
    "\n",
    "text_widget = tk.Text(window, width=100, height=15)\n",
    "text_widget.pack(pady=10)\n",
    "\n",
    "window.mainloop()\n",
    "\n",
    "# --- After GUI closes ---\n",
    "if selected_excel_path:\n",
    "    print(f\"\\n✅ Confirmed Excel file path: {selected_excel_path}\")\n",
    "    print(f\"✅ Available Sheets: {excel_data.sheet_names}\")\n",
    "else:\n",
    "    print(\"\\n❌ No file selected.\")\n"
   ]
  },
  {
   "cell_type": "markdown",
   "id": "9faeeafd",
   "metadata": {},
   "source": [
    "### Step 3: Prompt User for Sheet Selection"
   ]
  },
  {
   "cell_type": "code",
   "execution_count": null,
   "id": "7b472656",
   "metadata": {},
   "outputs": [],
   "source": [
    "if len(excel_data.sheet_names) > 1:\n",
    "    process_all_sheets = input(\"Do you want to process all sheets? (Y/N): \").strip().lower()\n",
    "    \n",
    "    if process_all_sheets == \"y\":\n",
    "        sheets_to_process = excel_data.sheet_names  # Process all sheets\n",
    "    elif process_all_sheets == \"n\":\n",
    "        sheet_name = input(\"Enter the sheet name to process: \").strip()\n",
    "        if sheet_name not in excel_data.sheet_names:\n",
    "            raise ValueError(f\"Sheet '{sheet_name}' not found in the Excel file.\")\n",
    "        sheets_to_process = [sheet_name]  # Process only the specified sheet\n",
    "    else:\n",
    "        raise ValueError(\"Invalid input. Please enter 'Y' or 'N'.\")\n",
    "else:\n",
    "    sheets_to_process = excel_data.sheet_names  # Process all sheets since there's only one sheet\n"
   ]
  },
  {
   "cell_type": "markdown",
   "id": "de946e9e",
   "metadata": {},
   "source": [
    "### Step 4: Process the Selected Sheets"
   ]
  },
  {
   "cell_type": "code",
   "execution_count": null,
   "id": "aa4b9e41",
   "metadata": {},
   "outputs": [],
   "source": [
    "# Define allowed characters (keep common symbols)\n",
    "allowed_pattern = re.compile(r\"[^\\w\\s.,!?;:'\\\"()\\[\\]\\/-]\")\n",
    "\n",
    "# Unicode-safe strip function\n",
    "def clean_string(text):\n",
    "    # Remove unwanted symbols\n",
    "    cleaned = allowed_pattern.sub('', text)\n",
    "    # Strip leading/trailing spaces including non-breaking ones\n",
    "    return cleaned.strip().replace('\\u00A0', '').strip()\n",
    "\n",
    "for sheet in sheets_to_process:\n",
    "    print(f\"Processing sheet: {sheet}\")\n",
    "    df = excel_data.parse(sheet)\n",
    "\n",
    "    df = df.where(pd.notnull(df), None)\n",
    "\n",
    "    json_data = df.to_dict(orient=\"records\")\n",
    "\n",
    "    # Clean each string in the record\n",
    "    for record in json_data:\n",
    "        for key, value in record.items():\n",
    "            if isinstance(value, str):\n",
    "                cleaned_value = clean_string(value.strip())\n",
    "                if ';' in cleaned_value:\n",
    "                    record[key] = [item.strip() for item in cleaned_value.split(';') if item.strip()]\n",
    "                else:\n",
    "                    record[key] = cleaned_value\n",
    "\n",
    "    print(f\"✅ JSON data for '{sheet}' written successfully:\")\n",
    "    print(pd.DataFrame(json_data))"
   ]
  },
  {
   "cell_type": "markdown",
   "id": "e0b62b66",
   "metadata": {},
   "source": [
    "### Step 5: Save the JSON Data to a File"
   ]
  },
  {
   "cell_type": "code",
   "execution_count": null,
   "id": "6357a771",
   "metadata": {},
   "outputs": [],
   "source": [
    "excel_filename_only = os.path.splitext(os.path.basename(selected_excel_path))[0]  # Remove folder + extension\n",
    "output_excel_file_path = f\"../../data/processed/processed_{excel_filename_only}.json\"\n",
    "\n",
    "# --- Ensure output directory exists ---\n",
    "os.makedirs(os.path.dirname(output_excel_file_path), exist_ok=True)\n",
    "\n",
    "# --- Custom serializer for datetime ---\n",
    "def custom_serializer(obj):\n",
    "    if isinstance(obj, datetime.datetime):\n",
    "        return obj.isoformat()  # ISO 8601 format\n",
    "    raise TypeError(f\"Type {type(obj)} not serializable\")\n",
    "\n",
    "# --- Save JSON ---\n",
    "with open(output_excel_file_path, \"w\", encoding=\"utf-8\") as json_file:\n",
    "    json.dump(json_data, json_file, indent=4, ensure_ascii=False, default=custom_serializer)\n",
    "\n",
    "print(f\"✅ JSON data saved to {output_excel_file_path}\")"
   ]
  },
  {
   "cell_type": "markdown",
   "id": "b55050b7",
   "metadata": {},
   "source": [
    "### - END"
   ]
  }
 ],
 "metadata": {
  "kernelspec": {
   "display_name": ".venv",
   "language": "python",
   "name": "python3"
  },
  "language_info": {
   "codemirror_mode": {
    "name": "ipython",
    "version": 3
   },
   "file_extension": ".py",
   "mimetype": "text/x-python",
   "name": "python",
   "nbconvert_exporter": "python",
   "pygments_lexer": "ipython3",
   "version": "3.12.7"
  }
 },
 "nbformat": 4,
 "nbformat_minor": 5
}
