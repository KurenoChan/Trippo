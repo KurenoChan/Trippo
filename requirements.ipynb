{
 "cells": [
  {
   "cell_type": "markdown",
   "id": "9988da60",
   "metadata": {},
   "source": [
    "# Install Necessary Libraries"
   ]
  },
  {
   "cell_type": "code",
   "execution_count": null,
   "id": "9dfc452e",
   "metadata": {},
   "outputs": [],
   "source": [
    "# 📊 Data Manipulation & Analysis\n",
    "%pip install pandas\n",
    "%pip install openpyxl\n",
    "%pip install numpy\n",
    "\n",
    "# 🔤 Natural Language Processing\n",
    "%pip install nltk\n",
    "%pip install langdetect\n",
    "%pip install translators\n",
    "%pip install autocorrect\n",
    "%pip install scikit-learn\n",
    "%pip install sentence-transformers\n",
    "%pip install transformers\n",
    "%pip install torch\n",
    "%pip install sentencepiece\n",
    "%pip install protobuf\n",
    "%pip install joblib\n",
    "%pip install faiss-cpu\n",
    "\n",
    "# 📄 PDF Processing & OCR\n",
    "%pip install PyPDF2\n",
    "%pip install pdfplumber\n",
    "%pip install pymupdf\n",
    "%pip install pytesseract\n",
    "%pip install pdf2image\n",
    "\n",
    "# 📈 Data Visualization\n",
    "%pip install matplotlib\n",
    "%pip install seaborn\n",
    "%pip install missingno\n",
    "%pip install pillow\n",
    "\n",
    "# 💬 Communication & Bot Development\n",
    "%pip install discord.py\n",
    "%pip install python-dotenv\n",
    "%pip install matplotlib \n",
    "%pip install seaborn \n",
    "%pip install ipython\n",
    "%pip install openai"
   ]
  }
 ],
 "metadata": {
  "kernelspec": {
   "display_name": ".venv",
   "language": "python",
   "name": "python3"
  },
  "language_info": {
   "codemirror_mode": {
    "name": "ipython",
    "version": 3
   },
   "file_extension": ".py",
   "mimetype": "text/x-python",
   "name": "python",
   "nbconvert_exporter": "python",
   "pygments_lexer": "ipython3",
   "version": "3.12.7"
  }
 },
 "nbformat": 4,
 "nbformat_minor": 5
}
